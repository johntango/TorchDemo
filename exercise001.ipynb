{
 "cells": [
  {
   "cell_type": "markdown",
   "metadata": {},
   "source": [
    "# Pytorch Introduction\n"
   ]
  },
  {
   "cell_type": "code",
   "execution_count": null,
   "metadata": {},
   "outputs": [],
   "source": [
    "%pip install torch\n",
    "import torch"
   ]
  },
  {
   "cell_type": "code",
   "execution_count": null,
   "metadata": {},
   "outputs": [],
   "source": [
    "torch.__version__"
   ]
  },
  {
   "cell_type": "code",
   "execution_count": null,
   "metadata": {},
   "outputs": [],
   "source": [
    "scalar = torch.tensor(7)\n",
    "vector = torch.tensor([1, 2, 3])\n",
    "Matrix = torch.tensor([[1, 2, 3], [4, 5, 6]])\n",
    "T = torch.tensor([[[1, 2, 3], [4, 5, 6]], [[7, 8, 9], [0, 1, 2]]])\n",
    "T.shape"
   ]
  },
  {
   "cell_type": "markdown",
   "metadata": {},
   "source": [
    "# Random Tensors"
   ]
  },
  {
   "cell_type": "code",
   "execution_count": null,
   "metadata": {},
   "outputs": [],
   "source": [
    "M1 = torch.rand(3, 3)\n",
    "M2 = torch.rand(10,10)\n",
    "T1 = torch.rand(3, 4, 4)\n",
    "T1"
   ]
  },
  {
   "cell_type": "code",
   "execution_count": null,
   "metadata": {},
   "outputs": [],
   "source": [
    "matrix_ones = torch.ones(5, 5)\n",
    "\n",
    "# Use torch.triu() to get the upper triangular matrix\n",
    "triangular_matrix = torch.triu(matrix_ones)\n",
    "\n",
    "triangular_matrix"
   ]
  },
  {
   "cell_type": "code",
   "execution_count": null,
   "metadata": {},
   "outputs": [],
   "source": [
    "# Use torch.tril() to get the lower triangular matrix\n",
    "triangular_matrix = torch.tril(matrix_ones)\n",
    "triangular_matrix"
   ]
  },
  {
   "cell_type": "code",
   "execution_count": null,
   "metadata": {},
   "outputs": [],
   "source": [
    "# from a full random matrix of 5x5 get the first element of row 1, the first two elements of row 2, the first three elements of row 3, and so on\n",
    "matrix = torch.rand(5, 5)\n",
    "print(matrix)\n",
    "result = matrix * triangular_matrix\n",
    "result\n"
   ]
  },
  {
   "cell_type": "code",
   "execution_count": null,
   "metadata": {},
   "outputs": [],
   "source": [
    "# create a matrix of ones \"like\" result, but with the ones on the lower triangular part\n",
    "# make lower triangle ones by usine torch.like\n",
    "lower_ones = torch.ones_like(result).tril()\n",
    "lower_ones\n",
    "\n",
    "\n",
    "\n",
    "\n",
    "\n"
   ]
  },
  {
   "cell_type": "code",
   "execution_count": null,
   "metadata": {},
   "outputs": [],
   "source": [
    "# matrix multiplication\n",
    "A = torch.ones(2,3)\n",
    "M = torch.matmul(A, A.T)\n",
    "M"
   ]
  },
  {
   "cell_type": "code",
   "execution_count": null,
   "metadata": {},
   "outputs": [],
   "source": [
    "# Squeeze removes all the dimensions that have a size of 1\n",
    "A = torch.tensor([[1, 2, 3]]).squeeze()\n",
    "A.shape"
   ]
  },
  {
   "cell_type": "code",
   "execution_count": null,
   "metadata": {},
   "outputs": [],
   "source": [
    "# permute the dimensions of a tensor for a color image 10x10x3 with 3 channels\n",
    "image = torch.rand(10, 10, 3)\n",
    "print(image.shape)\n",
    "new_image = image.permute(2, 0, 1)  \n",
    "new_image.shape"
   ]
  },
  {
   "cell_type": "code",
   "execution_count": null,
   "metadata": {},
   "outputs": [],
   "source": [
    "# indexing and slicing\n",
    "# create a 3x3 matrix with random values\n",
    "matrix = torch.rand(3, 3)\n",
    "print(matrix)\n",
    "# get the first row\n",
    "first_row = matrix[0, 0:2]\n",
    "first_row"
   ]
  },
  {
   "cell_type": "code",
   "execution_count": null,
   "metadata": {},
   "outputs": [],
   "source": [
    "# Get a GPU\n",
    "device = torch.device(\"cuda:0\" if torch.cuda.is_available() else \"cpu\")\n",
    "device"
   ]
  },
  {
   "cell_type": "code",
   "execution_count": null,
   "metadata": {},
   "outputs": [],
   "source": [
    "# Python Classes https://www.geeksforgeeks.org/python-classes-and-objects/#\n",
    "class Dog:\n",
    "    # Class Attribute\n",
    "    species = 'mammal'\n",
    "    # Initializer / Instance Attributes\n",
    "    def __init__(self, name, age):\n",
    "        self.name = name\n",
    "        self.age = age\n",
    "    # instance method\n",
    "    def description(self):\n",
    "        return \"{} is {} years old\".format(self.name, self.age)\n",
    "    # instance method\n",
    "    def speak(self, sound):\n",
    "        return \"{} says {}\".format(self.name, sound)\n",
    "    \n",
    "# Instantiate the Dog object\n",
    "mikey = Dog(\"Mikey\", 6)\n",
    "# call our instance methods\n",
    "print(mikey.description())\n",
    "print(mikey.speak(\"Gruff Gruff\"))"
   ]
  },
  {
   "cell_type": "markdown",
   "metadata": {},
   "source": [
    "# Linear Regression Model"
   ]
  },
  {
   "cell_type": "code",
   "execution_count": null,
   "metadata": {},
   "outputs": [],
   "source": [
    "# generate training data for line y = 2x + 3\n",
    "import numpy as np\n",
    "import torch\n",
    "X_train = torch.tensor([[1, 1], [2, 1], [3, 1], [4, 1], [5, 1]], dtype=torch.float32)\n",
    "y_train = torch.tensor([[5], [7], [9], [11], [13]], dtype=torch.float32)\n",
    "print(X_train)\n",
    "print(y_train)"
   ]
  },
  {
   "cell_type": "code",
   "execution_count": 216,
   "metadata": {},
   "outputs": [
    {
     "name": "stdout",
     "output_type": "stream",
     "text": [
      "Epoch [100/1000], Loss: 0.2075\n",
      "Epoch [200/1000], Loss: 0.0585\n",
      "Epoch [300/1000], Loss: 0.0165\n",
      "Epoch [400/1000], Loss: 0.0047\n",
      "Epoch [500/1000], Loss: 0.0013\n",
      "Epoch [600/1000], Loss: 0.0004\n",
      "Epoch [700/1000], Loss: 0.0001\n",
      "Epoch [800/1000], Loss: 0.0000\n",
      "Epoch [900/1000], Loss: 0.0000\n",
      "Epoch [1000/1000], Loss: 0.0000\n"
     ]
    },
    {
     "data": {
      "text/plain": [
       "tensor([[15.0024],\n",
       "        [17.0034]], grad_fn=<AddmmBackward0>)"
      ]
     },
     "execution_count": 216,
     "metadata": {},
     "output_type": "execute_result"
    }
   ],
   "source": [
    "# Build the Neural Network\n",
    "class LinearRegressionNet(nn.Module):\n",
    "    def __init__(self):\n",
    "        super(LinearRegressionNet, self).__init__()\n",
    "        # One fully connected layer (input_dim=2, output_dim=1)\n",
    "        self.fc = nn.Linear(2, 1)\n",
    "        \n",
    "    def forward(self, x):\n",
    "        return self.fc(x)\n",
    "\n",
    "# Instantiate the network\n",
    "net = LinearRegressionNet()\n",
    "\n",
    "# Define the loss and optimizer\n",
    "criterion = nn.MSELoss()\n",
    "optimizer = optim.SGD(net.parameters(), lr=0.01)\n",
    "\n",
    "# Train the Network\n",
    "num_epochs = 1000\n",
    "for epoch in range(num_epochs):\n",
    "    # Zero the gradients\n",
    "    optimizer.zero_grad()\n",
    "    \n",
    "    # Forward pass\n",
    "    outputs = net(x)\n",
    "    loss = criterion(outputs, y)\n",
    "    \n",
    "    # Backward pass and optimize\n",
    "    loss.backward()\n",
    "    optimizer.step()\n",
    "\n",
    "    # Print loss every 100 epochs\n",
    "    if (epoch+1) % 100 == 0:\n",
    "        print(f'Epoch [{epoch+1}/{num_epochs}], Loss: {loss.item():.4f}')\n",
    "\n",
    "# Test the network\n",
    "test_data = torch.tensor([[6, 1], [7, 1]], dtype=torch.float32)\n",
    "predictions = net(test_data)\n",
    "predictions\n"
   ]
  },
  {
   "cell_type": "markdown",
   "metadata": {},
   "source": [
    "# Recode using weights as nn.Parameter"
   ]
  }
 ],
 "metadata": {
  "kernelspec": {
   "display_name": "Python 3",
   "language": "python",
   "name": "python3"
  },
  "language_info": {
   "codemirror_mode": {
    "name": "ipython",
    "version": 3
   },
   "file_extension": ".py",
   "mimetype": "text/x-python",
   "name": "python",
   "nbconvert_exporter": "python",
   "pygments_lexer": "ipython3",
   "version": "3.11.4"
  },
  "orig_nbformat": 4
 },
 "nbformat": 4,
 "nbformat_minor": 2
}
