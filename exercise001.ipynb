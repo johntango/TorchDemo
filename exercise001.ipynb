{
 "cells": [
  {
   "cell_type": "markdown",
   "metadata": {},
   "source": [
    "# Pytorch Introduction\n"
   ]
  },
  {
   "cell_type": "code",
   "execution_count": 2,
   "metadata": {},
   "outputs": [
    {
     "name": "stdout",
     "output_type": "stream",
     "text": [
      "Requirement already satisfied: torch in /Users/johnwilliams/MIT/Courses/Embeddings/.conda/lib/python3.11/site-packages (2.0.1)\n",
      "Requirement already satisfied: filelock in /Users/johnwilliams/MIT/Courses/Embeddings/.conda/lib/python3.11/site-packages (from torch) (3.12.3)\n",
      "Requirement already satisfied: typing-extensions in /Users/johnwilliams/MIT/Courses/Embeddings/.conda/lib/python3.11/site-packages (from torch) (4.5.0)\n",
      "Requirement already satisfied: sympy in /Users/johnwilliams/MIT/Courses/Embeddings/.conda/lib/python3.11/site-packages (from torch) (1.12)\n",
      "Requirement already satisfied: networkx in /Users/johnwilliams/MIT/Courses/Embeddings/.conda/lib/python3.11/site-packages (from torch) (3.1)\n",
      "Requirement already satisfied: jinja2 in /Users/johnwilliams/MIT/Courses/Embeddings/.conda/lib/python3.11/site-packages (from torch) (3.1.2)\n",
      "Requirement already satisfied: MarkupSafe>=2.0 in /Users/johnwilliams/MIT/Courses/Embeddings/.conda/lib/python3.11/site-packages (from jinja2->torch) (2.1.3)\n",
      "Requirement already satisfied: mpmath>=0.19 in /Users/johnwilliams/MIT/Courses/Embeddings/.conda/lib/python3.11/site-packages (from sympy->torch) (1.3.0)\n",
      "Note: you may need to restart the kernel to use updated packages.\n"
     ]
    }
   ],
   "source": [
    "%pip install torch\n",
    "import torch"
   ]
  },
  {
   "cell_type": "code",
   "execution_count": 24,
   "metadata": {},
   "outputs": [
    {
     "data": {
      "text/plain": [
       "'2.0.1'"
      ]
     },
     "execution_count": 24,
     "metadata": {},
     "output_type": "execute_result"
    }
   ],
   "source": [
    "torch.__version__"
   ]
  },
  {
   "cell_type": "code",
   "execution_count": 8,
   "metadata": {},
   "outputs": [
    {
     "data": {
      "text/plain": [
       "torch.Size([2, 2, 3])"
      ]
     },
     "execution_count": 8,
     "metadata": {},
     "output_type": "execute_result"
    }
   ],
   "source": [
    "scalar = torch.tensor(7)\n",
    "vector = torch.tensor([1, 2, 3])\n",
    "Matrix = torch.tensor([[1, 2, 3], [4, 5, 6]])\n",
    "T = torch.tensor([[[1, 2, 3], [4, 5, 6]], [[7, 8, 9], [0, 1, 2]]])\n",
    "T.shape"
   ]
  },
  {
   "cell_type": "markdown",
   "metadata": {},
   "source": [
    "# Random Tensors"
   ]
  },
  {
   "cell_type": "code",
   "execution_count": 17,
   "metadata": {},
   "outputs": [
    {
     "data": {
      "text/plain": [
       "tensor([[[0.1539, 0.7869, 0.6750, 0.6658],\n",
       "         [0.9114, 0.5779, 0.4311, 0.9734],\n",
       "         [0.4569, 0.1145, 0.2356, 0.8486],\n",
       "         [0.6986, 0.9804, 0.1676, 0.4860]],\n",
       "\n",
       "        [[0.4843, 0.4959, 0.8466, 0.7865],\n",
       "         [0.3530, 0.2643, 0.6462, 0.7399],\n",
       "         [0.2642, 0.9976, 0.6244, 0.7249],\n",
       "         [0.8854, 0.4276, 0.9680, 0.4813]],\n",
       "\n",
       "        [[0.8533, 0.6192, 0.5852, 0.0783],\n",
       "         [0.7853, 0.4494, 0.1220, 0.8367],\n",
       "         [0.6685, 0.5135, 0.4729, 0.0401],\n",
       "         [0.0324, 0.1846, 0.4393, 0.4899]]])"
      ]
     },
     "execution_count": 17,
     "metadata": {},
     "output_type": "execute_result"
    }
   ],
   "source": [
    "M1 = torch.rand(3, 3)\n",
    "M2 = torch.rand(10,10)\n",
    "T1 = torch.rand(3, 4, 4)\n",
    "T1"
   ]
  },
  {
   "cell_type": "code",
   "execution_count": 18,
   "metadata": {},
   "outputs": [
    {
     "data": {
      "text/plain": [
       "tensor([[1., 1., 1., 1., 1.],\n",
       "        [0., 1., 1., 1., 1.],\n",
       "        [0., 0., 1., 1., 1.],\n",
       "        [0., 0., 0., 1., 1.],\n",
       "        [0., 0., 0., 0., 1.]])"
      ]
     },
     "execution_count": 18,
     "metadata": {},
     "output_type": "execute_result"
    }
   ],
   "source": [
    "matrix_ones = torch.ones(5, 5)\n",
    "\n",
    "# Use torch.triu() to get the upper triangular matrix\n",
    "triangular_matrix = torch.triu(matrix_ones)\n",
    "\n",
    "triangular_matrix"
   ]
  },
  {
   "cell_type": "code",
   "execution_count": 19,
   "metadata": {},
   "outputs": [
    {
     "data": {
      "text/plain": [
       "tensor([[1., 0., 0., 0., 0.],\n",
       "        [1., 1., 0., 0., 0.],\n",
       "        [1., 1., 1., 0., 0.],\n",
       "        [1., 1., 1., 1., 0.],\n",
       "        [1., 1., 1., 1., 1.]])"
      ]
     },
     "execution_count": 19,
     "metadata": {},
     "output_type": "execute_result"
    }
   ],
   "source": [
    "# Use torch.tril() to get the lower triangular matrix\n",
    "triangular_matrix = torch.tril(matrix_ones)\n",
    "triangular_matrix"
   ]
  },
  {
   "cell_type": "code",
   "execution_count": 29,
   "metadata": {},
   "outputs": [
    {
     "name": "stdout",
     "output_type": "stream",
     "text": [
      "tensor([[0.9911, 0.2453, 0.4995, 0.4340, 0.2305],\n",
      "        [0.0551, 0.4455, 0.7469, 0.4306, 0.0784],\n",
      "        [0.3532, 0.0839, 0.8456, 0.4183, 0.5111],\n",
      "        [0.1046, 0.7920, 0.3601, 0.6448, 0.5902],\n",
      "        [0.2034, 0.1081, 0.9074, 0.0270, 0.2226]])\n"
     ]
    },
    {
     "data": {
      "text/plain": [
       "tensor([[0.9911, 0.0000, 0.0000, 0.0000, 0.0000],\n",
       "        [0.0551, 0.4455, 0.0000, 0.0000, 0.0000],\n",
       "        [0.3532, 0.0839, 0.8456, 0.0000, 0.0000],\n",
       "        [0.1046, 0.7920, 0.3601, 0.6448, 0.0000],\n",
       "        [0.2034, 0.1081, 0.9074, 0.0270, 0.2226]])"
      ]
     },
     "execution_count": 29,
     "metadata": {},
     "output_type": "execute_result"
    }
   ],
   "source": [
    "# from a full random matrix of 5x5 get the first element of row 1, the first two elements of row 2, the first three elements of row 3, and so on\n",
    "matrix = torch.rand(5, 5)\n",
    "print(matrix)\n",
    "result = matrix * triangular_matrix\n",
    "result\n"
   ]
  },
  {
   "cell_type": "code",
   "execution_count": 39,
   "metadata": {},
   "outputs": [
    {
     "data": {
      "text/plain": [
       "tensor([[1., 0., 0., 0., 0.],\n",
       "        [1., 1., 0., 0., 0.],\n",
       "        [1., 1., 1., 0., 0.],\n",
       "        [1., 1., 1., 1., 0.],\n",
       "        [1., 1., 1., 1., 1.]])"
      ]
     },
     "execution_count": 39,
     "metadata": {},
     "output_type": "execute_result"
    }
   ],
   "source": [
    "# create a matrix of ones \"like\" result, but with the ones on the lower triangular part\n",
    "# make lower triangle ones by usine torch.like\n",
    "lower_ones = torch.ones_like(result).tril()\n",
    "lower_ones\n",
    "\n",
    "\n",
    "\n",
    "\n",
    "\n"
   ]
  },
  {
   "cell_type": "code",
   "execution_count": 45,
   "metadata": {},
   "outputs": [
    {
     "data": {
      "text/plain": [
       "tensor([[3., 3.],\n",
       "        [3., 3.]])"
      ]
     },
     "execution_count": 45,
     "metadata": {},
     "output_type": "execute_result"
    }
   ],
   "source": [
    "# matrix multiplication\n",
    "A = torch.ones(2,3)\n",
    "M = torch.matmul(A, A.T)\n",
    "M"
   ]
  },
  {
   "cell_type": "code",
   "execution_count": 52,
   "metadata": {},
   "outputs": [
    {
     "data": {
      "text/plain": [
       "torch.Size([3])"
      ]
     },
     "execution_count": 52,
     "metadata": {},
     "output_type": "execute_result"
    }
   ],
   "source": [
    "# Squeeze removes all the dimensions that have a size of 1\n",
    "A = torch.tensor([[1, 2, 3]]).squeeze()\n",
    "A.shape"
   ]
  },
  {
   "cell_type": "code",
   "execution_count": 55,
   "metadata": {},
   "outputs": [
    {
     "name": "stdout",
     "output_type": "stream",
     "text": [
      "tensor([[[0.9608, 0.9321, 0.3588],\n",
      "         [0.5724, 0.6607, 0.5960],\n",
      "         [0.4027, 0.7418, 0.7644],\n",
      "         [0.4260, 0.1665, 0.0990],\n",
      "         [0.3024, 0.1791, 0.1687],\n",
      "         [0.9642, 0.4929, 0.7166],\n",
      "         [0.8359, 0.4706, 0.1586],\n",
      "         [0.0098, 0.1721, 0.3984],\n",
      "         [0.4349, 0.4465, 0.7395],\n",
      "         [0.0307, 0.6142, 0.1029]],\n",
      "\n",
      "        [[0.9400, 0.0477, 0.3782],\n",
      "         [0.5026, 0.0909, 0.2089],\n",
      "         [0.8123, 0.3465, 0.4826],\n",
      "         [0.6505, 0.9197, 0.5523],\n",
      "         [0.9312, 0.0876, 0.7332],\n",
      "         [0.1034, 0.2137, 0.7622],\n",
      "         [0.0426, 0.6859, 0.7046],\n",
      "         [0.7085, 0.6276, 0.5308],\n",
      "         [0.5489, 0.7457, 0.6198],\n",
      "         [0.4037, 0.2814, 0.0224]],\n",
      "\n",
      "        [[0.4936, 0.3626, 0.9407],\n",
      "         [0.5455, 0.8841, 0.8323],\n",
      "         [0.5251, 0.7770, 0.4924],\n",
      "         [0.1127, 0.2997, 0.3147],\n",
      "         [0.1739, 0.9770, 0.7629],\n",
      "         [0.6068, 0.1075, 0.0246],\n",
      "         [0.4059, 0.0325, 0.8876],\n",
      "         [0.8786, 0.4393, 0.6985],\n",
      "         [0.2405, 0.6904, 0.9346],\n",
      "         [0.6780, 0.3375, 0.2909]],\n",
      "\n",
      "        [[0.9735, 0.7216, 0.3152],\n",
      "         [0.8881, 0.4479, 0.4401],\n",
      "         [0.0589, 0.3975, 0.9828],\n",
      "         [0.8618, 0.6683, 0.4957],\n",
      "         [0.0678, 0.8456, 0.3389],\n",
      "         [0.3081, 0.7649, 0.4868],\n",
      "         [0.2058, 0.3067, 0.1013],\n",
      "         [0.1684, 0.4253, 0.6147],\n",
      "         [0.5505, 0.4053, 0.2083],\n",
      "         [0.2655, 0.1252, 0.6752]],\n",
      "\n",
      "        [[0.7094, 0.1184, 0.3416],\n",
      "         [0.1861, 0.8059, 0.2314],\n",
      "         [0.4406, 0.6142, 0.4820],\n",
      "         [0.8229, 0.1508, 0.4876],\n",
      "         [0.2149, 0.2797, 0.4110],\n",
      "         [0.5847, 0.5636, 0.0927],\n",
      "         [0.5688, 0.2765, 0.5366],\n",
      "         [0.3563, 0.0097, 0.2005],\n",
      "         [0.8248, 0.3756, 0.2745],\n",
      "         [0.6870, 0.5442, 0.8827]],\n",
      "\n",
      "        [[0.0903, 0.1813, 0.6730],\n",
      "         [0.7373, 0.5588, 0.1436],\n",
      "         [0.3452, 0.9222, 0.5213],\n",
      "         [0.4696, 0.6864, 0.4678],\n",
      "         [0.1576, 0.0631, 0.3567],\n",
      "         [0.7994, 0.9034, 0.2243],\n",
      "         [0.0192, 0.6105, 0.5936],\n",
      "         [0.8636, 0.4979, 0.8238],\n",
      "         [0.1838, 0.1688, 0.8721],\n",
      "         [0.8782, 0.3219, 0.1853]],\n",
      "\n",
      "        [[0.2251, 0.1264, 0.5964],\n",
      "         [0.0726, 0.1668, 0.8188],\n",
      "         [0.2657, 0.5175, 0.2504],\n",
      "         [0.8759, 0.2886, 0.1469],\n",
      "         [0.2879, 0.5815, 0.0041],\n",
      "         [0.5718, 0.5760, 0.6163],\n",
      "         [0.1280, 0.8639, 0.2633],\n",
      "         [0.0671, 0.8985, 0.1852],\n",
      "         [0.5833, 0.7250, 0.2306],\n",
      "         [0.8586, 0.3800, 0.5037]],\n",
      "\n",
      "        [[0.4769, 0.1354, 0.3487],\n",
      "         [0.9127, 0.0704, 0.1685],\n",
      "         [0.4688, 0.1194, 0.3380],\n",
      "         [0.2131, 0.9164, 0.2266],\n",
      "         [0.6204, 0.8163, 0.8594],\n",
      "         [0.1371, 0.5019, 0.3904],\n",
      "         [0.8629, 0.2692, 0.3449],\n",
      "         [0.6180, 0.4667, 0.9653],\n",
      "         [0.3563, 0.4159, 0.3876],\n",
      "         [0.2914, 0.1722, 0.6319]],\n",
      "\n",
      "        [[0.8187, 0.8452, 0.3217],\n",
      "         [0.3155, 0.3281, 0.8303],\n",
      "         [0.3972, 0.7172, 0.2473],\n",
      "         [0.5155, 0.6934, 0.2003],\n",
      "         [0.1217, 0.5051, 0.0461],\n",
      "         [0.5236, 0.0453, 0.0626],\n",
      "         [0.4453, 0.9534, 0.0536],\n",
      "         [0.6371, 0.0308, 0.8556],\n",
      "         [0.3597, 0.9329, 0.7979],\n",
      "         [0.6155, 0.1437, 0.0276]],\n",
      "\n",
      "        [[0.3622, 0.8916, 0.0991],\n",
      "         [0.1249, 0.3621, 0.8140],\n",
      "         [0.3233, 0.5486, 0.1304],\n",
      "         [0.3704, 0.3203, 0.0826],\n",
      "         [0.7206, 0.7523, 0.3217],\n",
      "         [0.3024, 0.9039, 0.6833],\n",
      "         [0.5278, 0.1890, 0.7120],\n",
      "         [0.1533, 0.6338, 0.6129],\n",
      "         [0.9947, 0.7879, 0.8697],\n",
      "         [0.3619, 0.1500, 0.1783]]])\n"
     ]
    },
    {
     "data": {
      "text/plain": [
       "torch.Size([3, 10, 10])"
      ]
     },
     "execution_count": 55,
     "metadata": {},
     "output_type": "execute_result"
    }
   ],
   "source": [
    "# permute the dimensions of a tensor for a color image 10x10x3 with 3 channels\n",
    "image = torch.rand(10, 10, 3)\n",
    "print(image.shape)\n",
    "new_image = image.permute(2, 0, 1)  \n",
    "new_image.shape"
   ]
  }
 ],
 "metadata": {
  "kernelspec": {
   "display_name": "Python 3",
   "language": "python",
   "name": "python3"
  },
  "language_info": {
   "codemirror_mode": {
    "name": "ipython",
    "version": 3
   },
   "file_extension": ".py",
   "mimetype": "text/x-python",
   "name": "python",
   "nbconvert_exporter": "python",
   "pygments_lexer": "ipython3",
   "version": "3.11.4"
  },
  "orig_nbformat": 4
 },
 "nbformat": 4,
 "nbformat_minor": 2
}
